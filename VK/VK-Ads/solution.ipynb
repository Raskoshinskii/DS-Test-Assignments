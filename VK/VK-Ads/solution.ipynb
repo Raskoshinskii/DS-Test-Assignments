{
 "cells": [
  {
   "cell_type": "markdown",
   "id": "7745bab0-6063-4e30-bb6e-d29d9585d0c0",
   "metadata": {},
   "source": [
    "### Показы Рекламы \n",
    "\n",
    "На основе имеющихся данных сформулируйте рекомендации для рекламодателя.\n",
    "- Какие дополнительные настройки нужно добавить в рекламные кампании, чтобы улучшить их эффективность?\n",
    "    - Выставить таргетинги на отдельные группы пользователей\n",
    "    - Ограничить время показа рекламы и.т.д\n",
    "    \n",
    "**Описание данных**\n",
    "- `Device_id` – уникальный идентификатор девайса отправителя события\n",
    "- `Device_type` – тип девайса\n",
    "- `Datetime` – время отправки события\n",
    "- `Ev_type` – тип события (0 – показ, 1 – клик)\n",
    "- `Adv_type` – тип рекламы\n",
    "- `Region_id` – регион отправителя события\n",
    "- `Age` – возраст отправителя события\n",
    "- `Gender` – пол отправителя события (1 – женщины, 2 – мужчины)\n"
   ]
  },
  {
   "cell_type": "code",
   "execution_count": 35,
   "id": "5d9ea8c6-1b13-40a4-bd89-5c01de353b01",
   "metadata": {
    "tags": []
   },
   "outputs": [],
   "source": [
    "import random\n",
    "import pandas as pd\n",
    "import matplotlib.pyplot as plt\n",
    "import seaborn as sns"
   ]
  },
  {
   "cell_type": "markdown",
   "id": "e4e26a07-6cc5-49ae-a579-ce1370d1f966",
   "metadata": {
    "tags": []
   },
   "source": [
    "### 1. Загрузка данных и Preprocessing"
   ]
  },
  {
   "cell_type": "code",
   "execution_count": 36,
   "id": "81278e23-9a11-4cb7-a88f-5530c080028f",
   "metadata": {
    "tags": []
   },
   "outputs": [
    {
     "data": {
      "text/html": [
       "<div>\n",
       "<style scoped>\n",
       "    .dataframe tbody tr th:only-of-type {\n",
       "        vertical-align: middle;\n",
       "    }\n",
       "\n",
       "    .dataframe tbody tr th {\n",
       "        vertical-align: top;\n",
       "    }\n",
       "\n",
       "    .dataframe thead th {\n",
       "        text-align: right;\n",
       "    }\n",
       "</style>\n",
       "<table border=\"1\" class=\"dataframe\">\n",
       "  <thead>\n",
       "    <tr style=\"text-align: right;\">\n",
       "      <th></th>\n",
       "      <th>device_id</th>\n",
       "      <th>device_type</th>\n",
       "      <th>datetime</th>\n",
       "      <th>ev_type</th>\n",
       "      <th>adv_type</th>\n",
       "      <th>region_id</th>\n",
       "      <th>age</th>\n",
       "      <th>gender</th>\n",
       "    </tr>\n",
       "  </thead>\n",
       "  <tbody>\n",
       "    <tr>\n",
       "      <th>0</th>\n",
       "      <td>100001</td>\n",
       "      <td>android</td>\n",
       "      <td>2019-03-01 15:58:02</td>\n",
       "      <td>0</td>\n",
       "      <td>multi</td>\n",
       "      <td>2</td>\n",
       "      <td>14</td>\n",
       "      <td>2</td>\n",
       "    </tr>\n",
       "    <tr>\n",
       "      <th>1</th>\n",
       "      <td>100001</td>\n",
       "      <td>android</td>\n",
       "      <td>2019-03-01 17:13:53</td>\n",
       "      <td>0</td>\n",
       "      <td>multi</td>\n",
       "      <td>2</td>\n",
       "      <td>14</td>\n",
       "      <td>2</td>\n",
       "    </tr>\n",
       "    <tr>\n",
       "      <th>2</th>\n",
       "      <td>100002</td>\n",
       "      <td>android</td>\n",
       "      <td>2019-03-01 23:13:25</td>\n",
       "      <td>0</td>\n",
       "      <td>multi</td>\n",
       "      <td>2</td>\n",
       "      <td>0</td>\n",
       "      <td>0</td>\n",
       "    </tr>\n",
       "    <tr>\n",
       "      <th>3</th>\n",
       "      <td>100002</td>\n",
       "      <td>android</td>\n",
       "      <td>2019-03-01 23:25:06</td>\n",
       "      <td>0</td>\n",
       "      <td>multi</td>\n",
       "      <td>2</td>\n",
       "      <td>0</td>\n",
       "      <td>0</td>\n",
       "    </tr>\n",
       "    <tr>\n",
       "      <th>4</th>\n",
       "      <td>100003</td>\n",
       "      <td>android</td>\n",
       "      <td>2019-03-01 15:27:53</td>\n",
       "      <td>0</td>\n",
       "      <td>multi</td>\n",
       "      <td>1</td>\n",
       "      <td>0</td>\n",
       "      <td>0</td>\n",
       "    </tr>\n",
       "  </tbody>\n",
       "</table>\n",
       "</div>"
      ],
      "text/plain": [
       "   device_id device_type            datetime  ev_type adv_type  region_id  \\\n",
       "0     100001     android 2019-03-01 15:58:02        0    multi          2   \n",
       "1     100001     android 2019-03-01 17:13:53        0    multi          2   \n",
       "2     100002     android 2019-03-01 23:13:25        0    multi          2   \n",
       "3     100002     android 2019-03-01 23:25:06        0    multi          2   \n",
       "4     100003     android 2019-03-01 15:27:53        0    multi          1   \n",
       "\n",
       "   age  gender  \n",
       "0   14       2  \n",
       "1   14       2  \n",
       "2    0       0  \n",
       "3    0       0  \n",
       "4    0       0  "
      ]
     },
     "execution_count": 36,
     "metadata": {},
     "output_type": "execute_result"
    }
   ],
   "source": [
    "data = pd.read_csv('data/displays.csv', parse_dates=['datetime'])\n",
    "data.head()"
   ]
  },
  {
   "cell_type": "code",
   "execution_count": 37,
   "id": "fafb7bec-1067-4f44-99ed-468aebf9b4c0",
   "metadata": {
    "tags": []
   },
   "outputs": [
    {
     "name": "stdout",
     "output_type": "stream",
     "text": [
      "<class 'pandas.core.frame.DataFrame'>\n",
      "RangeIndex: 265403 entries, 0 to 265402\n",
      "Data columns (total 8 columns):\n",
      " #   Column       Non-Null Count   Dtype         \n",
      "---  ------       --------------   -----         \n",
      " 0   device_id    265403 non-null  int64         \n",
      " 1   device_type  265403 non-null  object        \n",
      " 2   datetime     265403 non-null  datetime64[ns]\n",
      " 3   ev_type      265403 non-null  int64         \n",
      " 4   adv_type     265403 non-null  object        \n",
      " 5   region_id    265403 non-null  int64         \n",
      " 6   age          265403 non-null  int64         \n",
      " 7   gender       265403 non-null  int64         \n",
      "dtypes: datetime64[ns](1), int64(5), object(2)\n",
      "memory usage: 16.2+ MB\n"
     ]
    }
   ],
   "source": [
    "data.info()"
   ]
  },
  {
   "cell_type": "code",
   "execution_count": 38,
   "id": "51cd9934-c793-4193-a7cf-a9ef6c3a6b4c",
   "metadata": {
    "tags": []
   },
   "outputs": [],
   "source": [
    "# приведем данные к удобному формату (лично мне =) )\n",
    "new_columns = {\n",
    "    'ev_type': 'event_type',\n",
    "    'adv_type': 'ad_type'\n",
    "}\n",
    "\n",
    "data = data.rename(new_columns, axis=1)\n",
    "data['event_type'] = data['event_type'].map({0: 'display', 1: 'click'})\n",
    "data['gender'] = data['gender'].map({0: 'unknown', 1: 'female', 2: 'male'})"
   ]
  },
  {
   "cell_type": "markdown",
   "id": "7025ec48-c1b6-41c3-ad1c-ea4be0a274f3",
   "metadata": {},
   "source": [
    "### Первоначальный EDA"
   ]
  },
  {
   "cell_type": "code",
   "execution_count": 39,
   "id": "cc01f5e8-0624-42ac-90c7-d4c350b03137",
   "metadata": {
    "tags": []
   },
   "outputs": [
    {
     "data": {
      "text/plain": [
       "100288    50\n",
       "101717    38\n",
       "100825    32\n",
       "100735    31\n",
       "102186    31\n",
       "102185    31\n",
       "102429    31\n",
       "101111    30\n",
       "101618    30\n",
       "101363    30\n",
       "Name: device_id, dtype: int64"
      ]
     },
     "metadata": {},
     "output_type": "display_data"
    },
    {
     "data": {
      "text/plain": [
       "281075    1\n",
       "279026    1\n",
       "285169    1\n",
       "283120    1\n",
       "196675    1\n",
       "211012    1\n",
       "208965    1\n",
       "206918    1\n",
       "219208    1\n",
       "253153    1\n",
       "Name: device_id, dtype: int64"
      ]
     },
     "metadata": {},
     "output_type": "display_data"
    }
   ],
   "source": [
    "# device_id\n",
    "display(\n",
    "    data['device_id'].value_counts().head(10),\n",
    "    data['device_id'].value_counts().tail(10)\n",
    ")"
   ]
  },
  {
   "cell_type": "markdown",
   "id": "c206df75-dda3-4975-a242-c654b07e91c9",
   "metadata": {},
   "source": [
    "- Имеем девайсы с которых просматривали рекламу несколько раз"
   ]
  },
  {
   "cell_type": "code",
   "execution_count": 40,
   "id": "c1450c2c-212f-49b4-8834-4c570e4dfd1b",
   "metadata": {
    "tags": []
   },
   "outputs": [
    {
     "data": {
      "text/plain": [
       "android    228595\n",
       "ios         36808\n",
       "Name: device_type, dtype: int64"
      ]
     },
     "metadata": {},
     "output_type": "display_data"
    },
    {
     "data": {
      "text/plain": [
       "android    228595\n",
       "ios         36808\n",
       "Name: device_type, dtype: int64"
      ]
     },
     "metadata": {},
     "output_type": "display_data"
    }
   ],
   "source": [
    "# device_type\n",
    "display(\n",
    "    data['device_type'].value_counts().head(10),\n",
    "    data['device_type'].value_counts().tail(10)\n",
    ")"
   ]
  },
  {
   "cell_type": "markdown",
   "id": "2caf5fce-7d06-4acb-a2cf-35effd262e6b",
   "metadata": {},
   "source": [
    "- всего 2 платформы (ios и android)"
   ]
  },
  {
   "cell_type": "code",
   "execution_count": 41,
   "id": "7fda6be5-14b6-4956-a4ea-bdc64916f277",
   "metadata": {
    "tags": []
   },
   "outputs": [
    {
     "data": {
      "text/plain": [
       "(Timestamp('2019-03-01 00:00:01'), Timestamp('2019-03-09 23:59:56'))"
      ]
     },
     "execution_count": 41,
     "metadata": {},
     "output_type": "execute_result"
    }
   ],
   "source": [
    "# datetime\n",
    "data['datetime'].min(), data['datetime'].max()"
   ]
  },
  {
   "cell_type": "markdown",
   "id": "e83325ac-ea48-4eab-b3e0-c7c647c41bb8",
   "metadata": {},
   "source": [
    "- Имеем данные за 9 дней в Марте "
   ]
  },
  {
   "cell_type": "code",
   "execution_count": 42,
   "id": "0abbb71f-c069-4a81-8d2b-2f93a189c9e7",
   "metadata": {
    "tags": []
   },
   "outputs": [
    {
     "data": {
      "text/plain": [
       "display    261295\n",
       "click        4108\n",
       "Name: event_type, dtype: int64"
      ]
     },
     "execution_count": 42,
     "metadata": {},
     "output_type": "execute_result"
    }
   ],
   "source": [
    "# event_type\n",
    "data['event_type'].value_counts()"
   ]
  },
  {
   "cell_type": "markdown",
   "id": "45a7fa91-6e22-4aef-ba7a-cd99b468832f",
   "metadata": {},
   "source": [
    "- Два соновных ивента - показ и клик"
   ]
  },
  {
   "cell_type": "code",
   "execution_count": 43,
   "id": "f4a4c0bf-6673-44e1-b800-a4089a1f9600",
   "metadata": {
    "tags": []
   },
   "outputs": [
    {
     "data": {
      "text/plain": [
       "video    213993\n",
       "multi     51410\n",
       "Name: ad_type, dtype: int64"
      ]
     },
     "execution_count": 43,
     "metadata": {},
     "output_type": "execute_result"
    }
   ],
   "source": [
    "# ad_type\n",
    "data['ad_type'].value_counts()"
   ]
  },
  {
   "cell_type": "markdown",
   "id": "4a3e6dcb-f818-461a-aa92-05f6edec5d14",
   "metadata": {},
   "source": [
    "- 2 основных типа рекламы: видео и multi (смешанная)"
   ]
  },
  {
   "cell_type": "code",
   "execution_count": 44,
   "id": "aa982a62-5598-45c5-b96e-5d247c6a6de7",
   "metadata": {
    "tags": []
   },
   "outputs": [
    {
     "data": {
      "text/plain": [
       "1    211011\n",
       "2     54392\n",
       "Name: region_id, dtype: int64"
      ]
     },
     "execution_count": 44,
     "metadata": {},
     "output_type": "execute_result"
    }
   ],
   "source": [
    "# region_id\n",
    "data['region_id'].value_counts()"
   ]
  },
  {
   "cell_type": "markdown",
   "id": "f1541f0b-a9b2-4089-babc-e7c241e28b97",
   "metadata": {},
   "source": [
    "- два региона (имеем больше показов в регионе 1, почти в 4 раза)"
   ]
  },
  {
   "cell_type": "code",
   "execution_count": 45,
   "id": "bb25dc21-4ad7-47bc-9690-34ec56564944",
   "metadata": {
    "tags": []
   },
   "outputs": [
    {
     "data": {
      "text/plain": [
       "(0, 75)"
      ]
     },
     "execution_count": 45,
     "metadata": {},
     "output_type": "execute_result"
    }
   ],
   "source": [
    "# age\n",
    "data['age'].min(), data['age'].max()"
   ]
  },
  {
   "cell_type": "code",
   "execution_count": 46,
   "id": "737cca69-3dac-4182-9480-7f48b943a38f",
   "metadata": {
    "tags": []
   },
   "outputs": [
    {
     "data": {
      "image/png": "[encoded data removed]",
      "text/plain": [
       "<Figure size 864x432 with 1 Axes>"
      ]
     },
     "metadata": {
      "needs_background": "light"
     },
     "output_type": "display_data"
    }
   ],
   "source": [
    "plt.figure(figsize=(12,6))\n",
    "sns.histplot(data['age'], bins=75);"
   ]
  },
  {
   "cell_type": "markdown",
   "id": "5e3642b5-1737-4f0b-b837-078008bdf61c",
   "metadata": {},
   "source": [
    "- Немного странные значения на хвостах распределения "
   ]
  },
  {
   "cell_type": "code",
   "execution_count": 47,
   "id": "bcc99d52-8bef-46d1-a0ea-68eb3042f818",
   "metadata": {
    "tags": []
   },
   "outputs": [
    {
     "data": {
      "text/plain": [
       "0     31926\n",
       "29     9273\n",
       "24     8890\n",
       "33     8566\n",
       "32     8538\n",
       "31     8451\n",
       "34     8261\n",
       "28     8148\n",
       "22     8112\n",
       "27     8054\n",
       "Name: age, dtype: int64"
      ]
     },
     "execution_count": 47,
     "metadata": {},
     "output_type": "execute_result"
    }
   ],
   "source": [
    "data['age'].value_counts().head(10)"
   ]
  },
  {
   "cell_type": "code",
   "execution_count": 48,
   "id": "cfaca121-9897-4b1b-8428-43f817003236",
   "metadata": {
    "tags": []
   },
   "outputs": [
    {
     "data": {
      "text/plain": [
       "0     31926\n",
       "29     9273\n",
       "24     8890\n",
       "33     8566\n",
       "32     8538\n",
       "31     8451\n",
       "34     8261\n",
       "28     8148\n",
       "22     8112\n",
       "27     8054\n",
       "Name: age, dtype: int64"
      ]
     },
     "metadata": {},
     "output_type": "display_data"
    },
    {
     "data": {
      "text/plain": [
       "69    239\n",
       "70    197\n",
       "71    138\n",
       "5     115\n",
       "2     105\n",
       "74    104\n",
       "72     99\n",
       "73     90\n",
       "3      63\n",
       "4      57\n",
       "Name: age, dtype: int64"
      ]
     },
     "metadata": {},
     "output_type": "display_data"
    }
   ],
   "source": [
    "display(\n",
    "    data['age'].value_counts().head(10),\n",
    "    data['age'].value_counts().tail(10)\n",
    ")"
   ]
  },
  {
   "cell_type": "code",
   "execution_count": 49,
   "id": "52809110-8735-475f-9dd5-8d2949f9bfc6",
   "metadata": {
    "tags": []
   },
   "outputs": [
    {
     "data": {
      "text/plain": [
       "(female     226616\n",
       " unknown     28347\n",
       " male        10440\n",
       " Name: gender, dtype: int64,)"
      ]
     },
     "execution_count": 49,
     "metadata": {},
     "output_type": "execute_result"
    }
   ],
   "source": [
    "# gender\n",
    "data['gender'].value_counts().head(10),"
   ]
  },
  {
   "cell_type": "markdown",
   "id": "38a28364-2cf3-41ce-ae41-2539abcba7c6",
   "metadata": {},
   "source": [
    "### Тестирование Гипотез\n",
    "Сформулируем ряд гипотез, которые позволят, например определить\n",
    "- Лучшее время показа рекламы на конкретном устройстве в конкрретное время\n",
    "- Как возраст влияет на CTR (тинейджеры, молодые, взрослые, пожилые)\n",
    "- Влияет ли пол на рекламу?\n",
    "- ...\n",
    "\n",
    "### Как Оценивать Эффективность Рекламы\n",
    "Для определения влияния разных признаков на эффективноть рекламы **будем использовать CTR**. Например, если видим, что CTR для женщин больше, чем для мужчин, то можно предположить, что пол влияет на рекламу и лучше отдать предпочтение женщинам и показывать рекламу им (вероятность клика больше)."
   ]
  },
  {
   "cell_type": "code",
   "execution_count": 50,
   "id": "a6582b6b-bd9e-4634-8c71-545a3c3f691f",
   "metadata": {
    "tags": []
   },
   "outputs": [],
   "source": [
    "def get_ctr(df, column):\n",
    "    \"\"\"\n",
    "    Удобная функция для расчета CTR по категориям.\n",
    "    \n",
    "    \"\"\"\n",
    "    ctr = {}\n",
    "    unique_values = df[column].unique()\n",
    "    for val in unique_values:\n",
    "        tmp_df = df[df[column] == val]\n",
    "        try: # если клика нет \n",
    "            ctr[val] = (tmp_df['event_type'].value_counts()['click'] / tmp_df['event_type'].value_counts()['display'])*100\n",
    "        except:\n",
    "            ctr[val] = 0\n",
    "    return ctr"
   ]
  },
  {
   "cell_type": "markdown",
   "id": "7d86a4e7-a22b-4338-8699-4929fda2cd2f",
   "metadata": {},
   "source": [
    "### Ряд Вопросов\n",
    "- В данных есть показы и клики с одних и тех же устройств - один пользователь?\n",
    "- Есть пользователи с возрастом 0 ???\n",
    "    - может возраст скрыт или неизвестен?\n",
    "    - у таких пользователей обычно gender - unknown\n",
    "- Есть пользователи с неизвестным полом\n",
    "    - может пол скрыт или неизвестен?\n",
    "    -  у таких пользователей возраст обычно - 0\n",
    "    - возраст меняется у таких наблюдений, что нелогично \n"
   ]
  },
  {
   "cell_type": "code",
   "execution_count": 51,
   "id": "5c31d66b-b261-4e00-a948-2e9a97fde895",
   "metadata": {
    "tags": []
   },
   "outputs": [
    {
     "name": "stdout",
     "output_type": "stream",
     "text": [
      "N UU (Zero Age):  12688\n"
     ]
    }
   ],
   "source": [
    "# так как пользователи с возратсом 0 это что-то необычное, то их можно рассмотреть отдельно (предпочтительнее) либо исключить из анализа\n",
    "zero_age_users = set(data[data['age'] == 0]['device_id'])\n",
    "print('N UU (Zero Age): ', len(zero_age_users))"
   ]
  },
  {
   "cell_type": "code",
   "execution_count": 52,
   "id": "efaea843-e838-4524-bb49-71595be05912",
   "metadata": {
    "tags": []
   },
   "outputs": [
    {
     "name": "stdout",
     "output_type": "stream",
     "text": [
      "[117729, 108084, 120540, 100429, 120242, 114091, 113278, 105444, 118617, 102401]\n"
     ]
    }
   ],
   "source": [
    "random_sample = random.sample(zero_age_users, 10)\n",
    "print(random_sample)"
   ]
  },
  {
   "cell_type": "code",
   "execution_count": 53,
   "id": "77eb0619-56d0-48cd-bda6-688b5a4bb1a5",
   "metadata": {
    "tags": []
   },
   "outputs": [],
   "source": [
    "# исключим пользователей с неизвестным полом и для которых возраст равен 0 (нужно рассмотреть отдельно)\n",
    "df = data[~data['device_id'].isin(zero_age_users)]"
   ]
  },
  {
   "cell_type": "code",
   "execution_count": 54,
   "id": "0ee51558-678a-4833-869a-f42beb698021",
   "metadata": {
    "tags": []
   },
   "outputs": [
    {
     "name": "stdout",
     "output_type": "stream",
     "text": [
      "N All Unique Devices:  174470\n",
      "N Unique Devices (More than 1 events):  38337 , 21.97 %\n",
      "N Unique Devices (Single Event):  136133 , 78.03 %\n"
     ]
    }
   ],
   "source": [
    "unique_dev = set(df['device_id'])\n",
    "dev_many_events = set(df['device_id'].value_counts()[df['device_id'].value_counts() > 1].index)\n",
    "dev_single_events = unique_dev.difference(dev_many_events)\n",
    "\n",
    "print('N All Unique Devices: ', len(unique_dev))\n",
    "print('N Unique Devices (More than 1 events): ', len(dev_many_events), ',', round(len(dev_many_events)/len(unique_dev)*100,2),'%')\n",
    "print('N Unique Devices (Single Event): ', len(dev_single_events), ',', round(len(dev_single_events)/len(unique_dev)*100,2),'%')"
   ]
  },
  {
   "cell_type": "code",
   "execution_count": 55,
   "id": "4bada8ed-a89c-4b67-9f89-babf5bf44683",
   "metadata": {
    "tags": []
   },
   "outputs": [
    {
     "name": "stdout",
     "output_type": "stream",
     "text": [
      "[179204, 148487, 200948, 204597, 211576, 109216, 107059, 160523, 208969, 146006]\n"
     ]
    }
   ],
   "source": [
    "random_sample = random.sample(dev_many_events, 10)\n",
    "print(random_sample)"
   ]
  },
  {
   "cell_type": "code",
   "execution_count": 56,
   "id": "8a62a837-bbe5-4e3b-8e2a-15b2e25a2504",
   "metadata": {
    "tags": []
   },
   "outputs": [
    {
     "data": {
      "text/html": [
       "<div>\n",
       "<style scoped>\n",
       "    .dataframe tbody tr th:only-of-type {\n",
       "        vertical-align: middle;\n",
       "    }\n",
       "\n",
       "    .dataframe tbody tr th {\n",
       "        vertical-align: top;\n",
       "    }\n",
       "\n",
       "    .dataframe thead th {\n",
       "        text-align: right;\n",
       "    }\n",
       "</style>\n",
       "<table border=\"1\" class=\"dataframe\">\n",
       "  <thead>\n",
       "    <tr style=\"text-align: right;\">\n",
       "      <th></th>\n",
       "      <th>device_id</th>\n",
       "      <th>device_type</th>\n",
       "      <th>datetime</th>\n",
       "      <th>event_type</th>\n",
       "      <th>ad_type</th>\n",
       "      <th>region_id</th>\n",
       "      <th>age</th>\n",
       "      <th>gender</th>\n",
       "    </tr>\n",
       "  </thead>\n",
       "  <tbody>\n",
       "    <tr>\n",
       "      <th>8224</th>\n",
       "      <td>101929</td>\n",
       "      <td>android</td>\n",
       "      <td>2019-03-05 14:42:24</td>\n",
       "      <td>display</td>\n",
       "      <td>multi</td>\n",
       "      <td>1</td>\n",
       "      <td>14</td>\n",
       "      <td>male</td>\n",
       "    </tr>\n",
       "    <tr>\n",
       "      <th>8225</th>\n",
       "      <td>101929</td>\n",
       "      <td>android</td>\n",
       "      <td>2019-03-06 00:31:41</td>\n",
       "      <td>display</td>\n",
       "      <td>multi</td>\n",
       "      <td>1</td>\n",
       "      <td>14</td>\n",
       "      <td>male</td>\n",
       "    </tr>\n",
       "    <tr>\n",
       "      <th>8226</th>\n",
       "      <td>101929</td>\n",
       "      <td>android</td>\n",
       "      <td>2019-03-02 16:01:15</td>\n",
       "      <td>display</td>\n",
       "      <td>multi</td>\n",
       "      <td>1</td>\n",
       "      <td>14</td>\n",
       "      <td>male</td>\n",
       "    </tr>\n",
       "    <tr>\n",
       "      <th>8227</th>\n",
       "      <td>101929</td>\n",
       "      <td>android</td>\n",
       "      <td>2019-03-08 19:48:37</td>\n",
       "      <td>display</td>\n",
       "      <td>multi</td>\n",
       "      <td>1</td>\n",
       "      <td>14</td>\n",
       "      <td>male</td>\n",
       "    </tr>\n",
       "    <tr>\n",
       "      <th>8228</th>\n",
       "      <td>101929</td>\n",
       "      <td>android</td>\n",
       "      <td>2019-03-02 20:13:26</td>\n",
       "      <td>display</td>\n",
       "      <td>multi</td>\n",
       "      <td>1</td>\n",
       "      <td>14</td>\n",
       "      <td>male</td>\n",
       "    </tr>\n",
       "    <tr>\n",
       "      <th>8229</th>\n",
       "      <td>101929</td>\n",
       "      <td>android</td>\n",
       "      <td>2019-03-05 09:15:52</td>\n",
       "      <td>display</td>\n",
       "      <td>multi</td>\n",
       "      <td>1</td>\n",
       "      <td>14</td>\n",
       "      <td>male</td>\n",
       "    </tr>\n",
       "    <tr>\n",
       "      <th>8230</th>\n",
       "      <td>101929</td>\n",
       "      <td>android</td>\n",
       "      <td>2019-03-06 11:02:21</td>\n",
       "      <td>display</td>\n",
       "      <td>multi</td>\n",
       "      <td>1</td>\n",
       "      <td>14</td>\n",
       "      <td>male</td>\n",
       "    </tr>\n",
       "    <tr>\n",
       "      <th>8231</th>\n",
       "      <td>101929</td>\n",
       "      <td>android</td>\n",
       "      <td>2019-03-01 21:00:46</td>\n",
       "      <td>display</td>\n",
       "      <td>multi</td>\n",
       "      <td>1</td>\n",
       "      <td>14</td>\n",
       "      <td>male</td>\n",
       "    </tr>\n",
       "    <tr>\n",
       "      <th>8232</th>\n",
       "      <td>101929</td>\n",
       "      <td>android</td>\n",
       "      <td>2019-03-06 18:39:35</td>\n",
       "      <td>display</td>\n",
       "      <td>multi</td>\n",
       "      <td>1</td>\n",
       "      <td>14</td>\n",
       "      <td>male</td>\n",
       "    </tr>\n",
       "    <tr>\n",
       "      <th>8233</th>\n",
       "      <td>101929</td>\n",
       "      <td>android</td>\n",
       "      <td>2019-03-07 04:04:40</td>\n",
       "      <td>display</td>\n",
       "      <td>multi</td>\n",
       "      <td>1</td>\n",
       "      <td>14</td>\n",
       "      <td>male</td>\n",
       "    </tr>\n",
       "  </tbody>\n",
       "</table>\n",
       "</div>"
      ],
      "text/plain": [
       "      device_id device_type            datetime event_type ad_type  region_id  \\\n",
       "8224     101929     android 2019-03-05 14:42:24    display   multi          1   \n",
       "8225     101929     android 2019-03-06 00:31:41    display   multi          1   \n",
       "8226     101929     android 2019-03-02 16:01:15    display   multi          1   \n",
       "8227     101929     android 2019-03-08 19:48:37    display   multi          1   \n",
       "8228     101929     android 2019-03-02 20:13:26    display   multi          1   \n",
       "8229     101929     android 2019-03-05 09:15:52    display   multi          1   \n",
       "8230     101929     android 2019-03-06 11:02:21    display   multi          1   \n",
       "8231     101929     android 2019-03-01 21:00:46    display   multi          1   \n",
       "8232     101929     android 2019-03-06 18:39:35    display   multi          1   \n",
       "8233     101929     android 2019-03-07 04:04:40    display   multi          1   \n",
       "\n",
       "      age gender  \n",
       "8224   14   male  \n",
       "8225   14   male  \n",
       "8226   14   male  \n",
       "8227   14   male  \n",
       "8228   14   male  \n",
       "8229   14   male  \n",
       "8230   14   male  \n",
       "8231   14   male  \n",
       "8232   14   male  \n",
       "8233   14   male  "
      ]
     },
     "execution_count": 56,
     "metadata": {},
     "output_type": "execute_result"
    }
   ],
   "source": [
    "# теперь все выглядит стабильно: пользователь одного пола одного возраста использующий один device_id\n",
    "df[df['device_id'] == 101929].head(10)"
   ]
  },
  {
   "cell_type": "markdown",
   "id": "984d8d33-ca8a-47f9-ad46-a99032a33dd9",
   "metadata": {},
   "source": [
    "### Добавим информацию о возвращении пользователя\n",
    "- Добавим информацию о том, что пользователь заходил повторно\n",
    "    - Эвристика: если время между 1 и вторым визитом > 1 дня\n",
    "- Можно добавить сессии пользователя (нужно определить время жизни сессии: 12ч, 12ч, 1 день, и.т.д.)"
   ]
  },
  {
   "cell_type": "code",
   "execution_count": 57,
   "id": "a784c1bb-63c1-4f1e-aa02-88c990d79804",
   "metadata": {
    "tags": []
   },
   "outputs": [
    {
     "name": "stdout",
     "output_type": "stream",
     "text": [
      "N UU (Returning):  19820\n",
      "Wall time: 3min 54s\n"
     ]
    }
   ],
   "source": [
    "%%time\n",
    "\n",
    "# отсортируем по времени\n",
    "df = df.groupby('device_id').apply(lambda x: x.sort_values('datetime')).reset_index(drop=True)\n",
    "\n",
    "# найдем разницу между первым и последним визитом\n",
    "res = df.groupby('device_id').apply(lambda x: x['datetime'].iloc[-1] - x['datetime'].iloc[0])\n",
    "\n",
    "# найдем пользователей, которые вернулись \n",
    "returning_uu = set(res[res > pd.Timedelta(days=1)].index)\n",
    "print('N UU (Returning): ', len(returning_uu))\n",
    "\n",
    "df['is_returning'] = df['device_id'].isin(returning_uu)*1"
   ]
  },
  {
   "cell_type": "markdown",
   "id": "5dce3a5d-9c4e-431c-be3e-68ddb774e80a",
   "metadata": {},
   "source": [
    "### Варианты Решения Задачи\n",
    "Так как есть данные по **рекламе одного рекламодателя в 2-х регионах**, то можно посмотреть на CTR рекламы по регионам и типу в разных разрезах (платформа, время, возраст, пол, ...). Посмотреть как данные парметры влияют на CTR и предложить оптимизацию. Например, реклама обычно стоит денег, поэтому для максиизации вероятности клика возможно имеет смысл показывать рекламу в определенное время суток для разных возрастных групп пользователей.\n",
    "\n",
    "- Скорее всего регион играет важную роль, поэтому имеет смысл сделать сегментацию по этому признаку и по типу рекламы в нем"
   ]
  },
  {
   "cell_type": "code",
   "execution_count": 58,
   "id": "6c270b30-89a9-4bff-9f5d-c912589b0af3",
   "metadata": {
    "tags": []
   },
   "outputs": [
    {
     "data": {
      "text/plain": [
       "{2: 1.664372683959767, 1: 1.74362694186628}"
      ]
     },
     "execution_count": 58,
     "metadata": {},
     "output_type": "execute_result"
    }
   ],
   "source": [
    "# сранвим, например, что CTR по регионам различатеся\n",
    "regions_ctr = get_ctr(df=df, column='region_id')\n",
    "regions_ctr"
   ]
  },
  {
   "cell_type": "code",
   "execution_count": 59,
   "id": "4f35b7aa-7a2a-4831-ad00-ffa0833f2a2f",
   "metadata": {
    "tags": []
   },
   "outputs": [],
   "source": [
    "# просегментируем\n",
    "region_1_multi = df[(df['region_id'] == 1) & (df['ad_type'] == 'multi')]\n",
    "region_1_video = df[(df['region_id'] == 1) & (df['ad_type'] == 'video')]\n",
    "\n",
    "region_2_multi = df[(df['region_id'] == 2) & (df['ad_type'] == 'multi')]\n",
    "region_2_video = df[(df['region_id'] == 2) & (df['ad_type'] == 'video')]"
   ]
  },
  {
   "cell_type": "code",
   "execution_count": 60,
   "id": "6f0dde1b-3a87-4c4e-9d97-a6f5e20dbe8d",
   "metadata": {
    "tags": []
   },
   "outputs": [
    {
     "name": "stdout",
     "output_type": "stream",
     "text": [
      "Качество (Регион 1 Multi):  {1: 0.33565881268921943}\n",
      "Качество (Регион 1 Video):  {1: 1.871893418393961}\n",
      "Качество (Регион 2 Multi):  {2: 0.36231884057971014}\n",
      "Качество (Регион 2 Video):  {2: 1.789485899965185}\n"
     ]
    }
   ],
   "source": [
    "# взглянем на качество показво для разного типа рекламы по регионам\n",
    "region_1_multi_сtr = get_ctr(df=region_1_multi, column='region_id')\n",
    "region_1_video_сtr = get_ctr(df=region_1_video, column='region_id')\n",
    "\n",
    "region_2_multi_сtr = get_ctr(df=region_2_multi, column='region_id')\n",
    "region_2_video_сtr = get_ctr(df=region_2_video, column='region_id')\n",
    "\n",
    "\n",
    "print('Качество (Регион 1 Multi): ', region_1_multi_сtr)\n",
    "print('Качество (Регион 1 Video): ', region_1_video_сtr)\n",
    "print('Качество (Регион 2 Multi): ', region_2_multi_сtr)\n",
    "print('Качество (Регион 2 Video): ', region_2_video_сtr)"
   ]
  },
  {
   "cell_type": "markdown",
   "id": "89ab69db-b324-4ea5-a415-985e74142183",
   "metadata": {},
   "source": [
    "- Видно, что качестов одного типа в разных регионах изменяется. Посмотрим как мы модем их улучшить"
   ]
  },
  {
   "cell_type": "markdown",
   "id": "e0b040f5-9cd5-480b-b873-32fb2fb384fe",
   "metadata": {},
   "source": [
    "#### Region 1 (Multi)\n",
    "**CTR по полу**"
   ]
  },
  {
   "cell_type": "code",
   "execution_count": 61,
   "id": "2aa254c9-0ebf-496d-8d96-7d357346e841",
   "metadata": {
    "tags": []
   },
   "outputs": [
    {
     "data": {
      "image/png": "[encoded data removed]",
      "text/plain": [
       "<Figure size 1152x576 with 1 Axes>"
      ]
     },
     "metadata": {
      "needs_background": "light"
     },
     "output_type": "display_data"
    }
   ],
   "source": [
    "reg1_multi_gender_ctr = get_ctr(df=region_1_multi, column='gender')\n",
    "reg1_multi_gender_ctr = pd.DataFrame({\n",
    "    'gender': reg1_multi_gender_ctr.keys(),\n",
    "    'ctr': reg1_multi_gender_ctr.values()\n",
    "})\n",
    "\n",
    "plt.figure(figsize=(16,8))\n",
    "sns.barplot(data=reg1_multi_gender_ctr, x='gender', y='ctr');"
   ]
  },
  {
   "cell_type": "markdown",
   "id": "04a9d5ef-e4b0-4d12-a17d-768336dd7191",
   "metadata": {
    "tags": []
   },
   "source": [
    "- Можно предположить, что женщины более склонны к клику\n",
    "\n",
    "**CTR по девайсу**"
   ]
  },
  {
   "cell_type": "code",
   "execution_count": 62,
   "id": "87f26469-c011-4f24-b876-1b9d831abef3",
   "metadata": {
    "tags": []
   },
   "outputs": [
    {
     "data": {
      "image/png": "[encoded data removed]",
      "text/plain": [
       "<Figure size 1152x576 with 1 Axes>"
      ]
     },
     "metadata": {
      "needs_background": "light"
     },
     "output_type": "display_data"
    }
   ],
   "source": [
    "reg1_multi_device_ctr = get_ctr(df=region_1_multi, column='device_type')\n",
    "reg1_multi_device_ctr = pd.DataFrame({\n",
    "    'device_type': reg1_multi_device_ctr.keys(),\n",
    "    'ctr': reg1_multi_device_ctr.values()\n",
    "})\n",
    "\n",
    "plt.figure(figsize=(16,8))\n",
    "sns.barplot(data=reg1_multi_device_ctr, x='device_type', y='ctr');"
   ]
  },
  {
   "cell_type": "markdown",
   "id": "29316681-7cf7-4912-9522-dd2291b1f48a",
   "metadata": {
    "tags": []
   },
   "source": [
    "- Имеем только android, ничего сказать не можем\n",
    "\n",
    "**CTR по возвращению пользователей**"
   ]
  },
  {
   "cell_type": "code",
   "execution_count": 63,
   "id": "5e68921d-c480-4914-a044-c2c06ced91af",
   "metadata": {
    "tags": []
   },
   "outputs": [
    {
     "data": {
      "image/png": "[encoded data removed]",
      "text/plain": [
       "<Figure size 1152x576 with 1 Axes>"
      ]
     },
     "metadata": {
      "needs_background": "light"
     },
     "output_type": "display_data"
    }
   ],
   "source": [
    "reg1_multi_return_ctr = get_ctr(df=region_1_multi, column='is_returning')\n",
    "reg1_multi_return_ctr = pd.DataFrame({\n",
    "    'is_returning': reg1_multi_return_ctr.keys(),\n",
    "    'ctr': reg1_multi_return_ctr.values()\n",
    "})\n",
    "\n",
    "plt.figure(figsize=(16,8))\n",
    "sns.barplot(data=reg1_multi_return_ctr, x='is_returning', y='ctr');"
   ]
  },
  {
   "cell_type": "markdown",
   "id": "cbcc3556-eab4-4416-a757-41c42ab57825",
   "metadata": {},
   "source": [
    "- Пользователи котоыре возвращаются менее склонны к клику (странно, возможно стоит перепроверить)\n",
    "\n",
    "### CTR по времени \n",
    "Можно рассматривать в следующих разрезах\n",
    "- Час\n",
    "- Время суток: утро, день, вечер, ночь\n",
    "- День недели: ПН, ВТ, СР, ...\n",
    "- "
   ]
  },
  {
   "cell_type": "code",
   "execution_count": 64,
   "id": "835afe45-bab0-41ff-90df-b797c212a23d",
   "metadata": {
    "tags": []
   },
   "outputs": [],
   "source": [
    "def get_time_features(series):\n",
    "    \"\"\"\n",
    "    Функция, добавляющая признаки времени.\n",
    "    \n",
    "    \"\"\"\n",
    "    features_df = pd.DataFrame()\n",
    "    features_df['datetime'] = series\n",
    "    features_df['hour'] = series.dt.hour\n",
    "    features_df['day_name'] = series.dt.day_name()\n",
    "    features_df['is_weekend'] = series.dt.weekday.isin([5,6])*1\n",
    "\n",
    "    lunch_time = set(map(lambda x: x.hour, pd.date_range('12:00:00', '13:00:00', freq='h').time))\n",
    "    working_hours = set(map(lambda x: x.hour, pd.date_range('8:00:00', '19:00:00', freq='h').time))\n",
    "    working_hours = working_hours - lunch_time\n",
    "    features_df['is_working_hour'] = (\n",
    "        features_df['datetime'].apply(lambda x: x.time().hour in working_hours)*1\n",
    "    ).values\n",
    "    features_df['is_lunch_time'] = (\n",
    "        features_df['datetime'].apply(lambda x: x.time().hour in lunch_time)*1\n",
    "    ).values\n",
    "    \n",
    "    features_df['day_of_time'] = pd.cut(\n",
    "        features_df['datetime'].dt.hour,\n",
    "        bins=[0, 6, 12, 18, 24],\n",
    "        labels=['Ночь', 'Утро', 'День', 'Вечер'],\n",
    "        right=False\n",
    "    )\n",
    "    return features_df "
   ]
  },
  {
   "cell_type": "code",
   "execution_count": 65,
   "id": "6435c969-5e67-4584-a9e7-d635cd0b5c32",
   "metadata": {
    "tags": []
   },
   "outputs": [
    {
     "data": {
      "text/html": [
       "<div>\n",
       "<style scoped>\n",
       "    .dataframe tbody tr th:only-of-type {\n",
       "        vertical-align: middle;\n",
       "    }\n",
       "\n",
       "    .dataframe tbody tr th {\n",
       "        vertical-align: top;\n",
       "    }\n",
       "\n",
       "    .dataframe thead th {\n",
       "        text-align: right;\n",
       "    }\n",
       "</style>\n",
       "<table border=\"1\" class=\"dataframe\">\n",
       "  <thead>\n",
       "    <tr style=\"text-align: right;\">\n",
       "      <th></th>\n",
       "      <th>datetime</th>\n",
       "      <th>hour</th>\n",
       "      <th>day_name</th>\n",
       "      <th>is_weekend</th>\n",
       "      <th>is_working_hour</th>\n",
       "      <th>is_lunch_time</th>\n",
       "      <th>day_of_time</th>\n",
       "      <th>event_type</th>\n",
       "    </tr>\n",
       "  </thead>\n",
       "  <tbody>\n",
       "    <tr>\n",
       "      <th>2</th>\n",
       "      <td>2019-03-01 15:31:17</td>\n",
       "      <td>15</td>\n",
       "      <td>Friday</td>\n",
       "      <td>0</td>\n",
       "      <td>1</td>\n",
       "      <td>0</td>\n",
       "      <td>День</td>\n",
       "      <td>display</td>\n",
       "    </tr>\n",
       "    <tr>\n",
       "      <th>3</th>\n",
       "      <td>2019-03-01 15:32:34</td>\n",
       "      <td>15</td>\n",
       "      <td>Friday</td>\n",
       "      <td>0</td>\n",
       "      <td>1</td>\n",
       "      <td>0</td>\n",
       "      <td>День</td>\n",
       "      <td>display</td>\n",
       "    </tr>\n",
       "    <tr>\n",
       "      <th>4</th>\n",
       "      <td>2019-03-01 15:33:10</td>\n",
       "      <td>15</td>\n",
       "      <td>Friday</td>\n",
       "      <td>0</td>\n",
       "      <td>1</td>\n",
       "      <td>0</td>\n",
       "      <td>День</td>\n",
       "      <td>display</td>\n",
       "    </tr>\n",
       "    <tr>\n",
       "      <th>5</th>\n",
       "      <td>2019-03-01 15:57:29</td>\n",
       "      <td>15</td>\n",
       "      <td>Friday</td>\n",
       "      <td>0</td>\n",
       "      <td>1</td>\n",
       "      <td>0</td>\n",
       "      <td>День</td>\n",
       "      <td>display</td>\n",
       "    </tr>\n",
       "    <tr>\n",
       "      <th>6</th>\n",
       "      <td>2019-03-01 22:05:59</td>\n",
       "      <td>22</td>\n",
       "      <td>Friday</td>\n",
       "      <td>0</td>\n",
       "      <td>0</td>\n",
       "      <td>0</td>\n",
       "      <td>Вечер</td>\n",
       "      <td>display</td>\n",
       "    </tr>\n",
       "    <tr>\n",
       "      <th>...</th>\n",
       "      <td>...</td>\n",
       "      <td>...</td>\n",
       "      <td>...</td>\n",
       "      <td>...</td>\n",
       "      <td>...</td>\n",
       "      <td>...</td>\n",
       "      <td>...</td>\n",
       "      <td>...</td>\n",
       "    </tr>\n",
       "    <tr>\n",
       "      <th>20605</th>\n",
       "      <td>2019-03-09 08:22:36</td>\n",
       "      <td>8</td>\n",
       "      <td>Saturday</td>\n",
       "      <td>1</td>\n",
       "      <td>1</td>\n",
       "      <td>0</td>\n",
       "      <td>Утро</td>\n",
       "      <td>display</td>\n",
       "    </tr>\n",
       "    <tr>\n",
       "      <th>20606</th>\n",
       "      <td>2019-03-09 04:04:30</td>\n",
       "      <td>4</td>\n",
       "      <td>Saturday</td>\n",
       "      <td>1</td>\n",
       "      <td>0</td>\n",
       "      <td>0</td>\n",
       "      <td>Ночь</td>\n",
       "      <td>display</td>\n",
       "    </tr>\n",
       "    <tr>\n",
       "      <th>20607</th>\n",
       "      <td>2019-03-09 16:19:29</td>\n",
       "      <td>16</td>\n",
       "      <td>Saturday</td>\n",
       "      <td>1</td>\n",
       "      <td>1</td>\n",
       "      <td>0</td>\n",
       "      <td>День</td>\n",
       "      <td>display</td>\n",
       "    </tr>\n",
       "    <tr>\n",
       "      <th>20608</th>\n",
       "      <td>2019-03-09 00:33:42</td>\n",
       "      <td>0</td>\n",
       "      <td>Saturday</td>\n",
       "      <td>1</td>\n",
       "      <td>0</td>\n",
       "      <td>0</td>\n",
       "      <td>Ночь</td>\n",
       "      <td>display</td>\n",
       "    </tr>\n",
       "    <tr>\n",
       "      <th>20609</th>\n",
       "      <td>2019-03-09 06:33:23</td>\n",
       "      <td>6</td>\n",
       "      <td>Saturday</td>\n",
       "      <td>1</td>\n",
       "      <td>0</td>\n",
       "      <td>0</td>\n",
       "      <td>Утро</td>\n",
       "      <td>display</td>\n",
       "    </tr>\n",
       "  </tbody>\n",
       "</table>\n",
       "<p>15245 rows × 8 columns</p>\n",
       "</div>"
      ],
      "text/plain": [
       "                 datetime  hour  day_name  is_weekend  is_working_hour  \\\n",
       "2     2019-03-01 15:31:17    15    Friday           0                1   \n",
       "3     2019-03-01 15:32:34    15    Friday           0                1   \n",
       "4     2019-03-01 15:33:10    15    Friday           0                1   \n",
       "5     2019-03-01 15:57:29    15    Friday           0                1   \n",
       "6     2019-03-01 22:05:59    22    Friday           0                0   \n",
       "...                   ...   ...       ...         ...              ...   \n",
       "20605 2019-03-09 08:22:36     8  Saturday           1                1   \n",
       "20606 2019-03-09 04:04:30     4  Saturday           1                0   \n",
       "20607 2019-03-09 16:19:29    16  Saturday           1                1   \n",
       "20608 2019-03-09 00:33:42     0  Saturday           1                0   \n",
       "20609 2019-03-09 06:33:23     6  Saturday           1                0   \n",
       "\n",
       "       is_lunch_time day_of_time event_type  \n",
       "2                  0        День    display  \n",
       "3                  0        День    display  \n",
       "4                  0        День    display  \n",
       "5                  0        День    display  \n",
       "6                  0       Вечер    display  \n",
       "...              ...         ...        ...  \n",
       "20605              0        Утро    display  \n",
       "20606              0        Ночь    display  \n",
       "20607              0        День    display  \n",
       "20608              0        Ночь    display  \n",
       "20609              0        Утро    display  \n",
       "\n",
       "[15245 rows x 8 columns]"
      ]
     },
     "execution_count": 65,
     "metadata": {},
     "output_type": "execute_result"
    }
   ],
   "source": [
    "time_features_df = get_time_features(region_1_multi['datetime'])\n",
    "\n",
    "# добавим стобец с показами\n",
    "time_features_df['event_type'] = region_1_multi['event_type']\n",
    "time_features_df"
   ]
  },
  {
   "cell_type": "markdown",
   "id": "9ac646a4-16ad-480a-bcc7-e8bbdef28d73",
   "metadata": {},
   "source": [
    "**Час**"
   ]
  },
  {
   "cell_type": "code",
   "execution_count": 66,
   "id": "8c494c9e-9929-4396-be73-d6b9a921264c",
   "metadata": {
    "tags": []
   },
   "outputs": [
    {
     "data": {
      "image/png": "[encoded data removed]",
      "text/plain": [
       "<Figure size 1152x576 with 1 Axes>"
      ]
     },
     "metadata": {
      "needs_background": "light"
     },
     "output_type": "display_data"
    }
   ],
   "source": [
    "plt.figure(figsize=(16,8))\n",
    "sns.histplot(data=time_features_df, x='hour', hue='event_type', multiple='stack');"
   ]
  },
  {
   "cell_type": "code",
   "execution_count": 67,
   "id": "9d16b968-8155-4283-91f8-6660aaca0dda",
   "metadata": {
    "tags": []
   },
   "outputs": [
    {
     "data": {
      "image/png": "[encoded data removed]",
      "text/plain": [
       "<Figure size 1152x576 with 1 Axes>"
      ]
     },
     "metadata": {
      "needs_background": "light"
     },
     "output_type": "display_data"
    }
   ],
   "source": [
    "hour_ctr = get_ctr(df=time_features_df, column='hour')\n",
    "\n",
    "hour_ctr_df = pd.DataFrame({\n",
    "    'hour': hour_ctr.keys(),\n",
    "    'ctr': hour_ctr.values()\n",
    "})\n",
    "\n",
    "plt.figure(figsize=(16,8))\n",
    "sns.barplot(data=hour_ctr_df, x='hour', y='ctr');"
   ]
  },
  {
   "cell_type": "markdown",
   "id": "6a319214-da40-4dad-91e0-5fc96541242a",
   "metadata": {
    "tags": []
   },
   "source": [
    "- CTR максимален в 5, 22, 14 ..."
   ]
  },
  {
   "cell_type": "markdown",
   "id": "60eccae7-7e73-4de9-92bc-4643f67e8494",
   "metadata": {},
   "source": [
    "**День Недели**"
   ]
  },
  {
   "cell_type": "code",
   "execution_count": 68,
   "id": "fe411623-9aaf-48d2-9df3-50466f077338",
   "metadata": {
    "tags": []
   },
   "outputs": [
    {
     "data": {
      "image/png": "[encoded data removed]",
      "text/plain": [
       "<Figure size 864x432 with 1 Axes>"
      ]
     },
     "metadata": {
      "needs_background": "light"
     },
     "output_type": "display_data"
    }
   ],
   "source": [
    "plt.figure(figsize=(12,6))\n",
    "sns.histplot(data=time_features_df, x='day_name', hue='event_type', multiple='stack');"
   ]
  },
  {
   "cell_type": "code",
   "execution_count": 69,
   "id": "1e847f77-fecb-433a-b38e-eb8e0517d3c3",
   "metadata": {
    "tags": []
   },
   "outputs": [
    {
     "data": {
      "image/png": "[encoded data removed]",
      "text/plain": [
       "<Figure size 1152x576 with 1 Axes>"
      ]
     },
     "metadata": {
      "needs_background": "light"
     },
     "output_type": "display_data"
    }
   ],
   "source": [
    "day_ctr = get_ctr(df=time_features_df, column='day_name')\n",
    "\n",
    "day_ctr_df = pd.DataFrame({\n",
    "    'day_name': day_ctr.keys(),\n",
    "    'ctr': day_ctr.values()\n",
    "})\n",
    "\n",
    "plt.figure(figsize=(16,8))\n",
    "sns.barplot(data=day_ctr_df, x='day_name', y='ctr');"
   ]
  },
  {
   "cell_type": "markdown",
   "id": "43063599-0379-4ac8-a088-f6ab0168de53",
   "metadata": {},
   "source": [
    "- CTR максимален в Среду, Четверг и Воскресенье"
   ]
  },
  {
   "cell_type": "markdown",
   "id": "8867c2e7-a53f-47b9-97d2-be6187ab91b9",
   "metadata": {},
   "source": [
    "**Выходные**"
   ]
  },
  {
   "cell_type": "code",
   "execution_count": 70,
   "id": "a92090ae-de95-4390-afed-b7a0382faaa1",
   "metadata": {
    "tags": []
   },
   "outputs": [
    {
     "data": {
      "image/png": "[encoded data removed]",
      "text/plain": [
       "<Figure size 1152x576 with 1 Axes>"
      ]
     },
     "metadata": {
      "needs_background": "light"
     },
     "output_type": "display_data"
    }
   ],
   "source": [
    "is_weekend_ctr = get_ctr(df=time_features_df, column='is_weekend')\n",
    "\n",
    "is_weekend_ctr_df = pd.DataFrame({\n",
    "    'is_weekend': is_weekend_ctr.keys(),\n",
    "    'ctr': is_weekend_ctr.values()\n",
    "})\n",
    "\n",
    "plt.figure(figsize=(16,8))\n",
    "sns.barplot(data=is_weekend_ctr_df, x='is_weekend', y='ctr');"
   ]
  },
  {
   "cell_type": "markdown",
   "id": "06be9a62-bd8f-43e8-9ffc-8eb6ee8b318e",
   "metadata": {
    "tags": []
   },
   "source": [
    "- Есть небольшой uplift если это выходной день"
   ]
  },
  {
   "cell_type": "code",
   "execution_count": 71,
   "id": "2cbbfa72-29cf-4356-bb03-e082cfd8c97c",
   "metadata": {
    "tags": []
   },
   "outputs": [
    {
     "data": {
      "image/png": "[encoded data removed]",
      "text/plain": [
       "<Figure size 1152x576 with 1 Axes>"
      ]
     },
     "metadata": {
      "needs_background": "light"
     },
     "output_type": "display_data"
    }
   ],
   "source": [
    "is_working_ctr = get_ctr(df=time_features_df, column='is_working_hour')\n",
    "\n",
    "is_working_ctr_df = pd.DataFrame({\n",
    "    'is_working_hour': is_working_ctr.keys(),\n",
    "    'ctr': is_working_ctr.values()\n",
    "})\n",
    "\n",
    "plt.figure(figsize=(16,8))\n",
    "sns.barplot(data=is_working_ctr_df, x='is_working_hour', y='ctr');"
   ]
  },
  {
   "cell_type": "markdown",
   "id": "096334f3-30c3-446e-a1e4-bcac54bf169c",
   "metadata": {},
   "source": [
    "- Особого различия нет"
   ]
  },
  {
   "cell_type": "markdown",
   "id": "ee165a5f-d05b-42ca-a187-20c8f8d30442",
   "metadata": {},
   "source": [
    "**Обеденное Время**"
   ]
  },
  {
   "cell_type": "code",
   "execution_count": 72,
   "id": "b60fd129-7421-436a-b7e2-acafa2392681",
   "metadata": {
    "tags": []
   },
   "outputs": [
    {
     "data": {
      "image/png": "[encoded data removed]",
      "text/plain": [
       "<Figure size 1152x576 with 1 Axes>"
      ]
     },
     "metadata": {
      "needs_background": "light"
     },
     "output_type": "display_data"
    }
   ],
   "source": [
    "is_lunch_ctr = get_ctr(df=time_features_df, column='is_lunch_time')\n",
    "\n",
    "is_lunch_ctr_df = pd.DataFrame({\n",
    "    'is_lunch_time': is_lunch_ctr.keys(),\n",
    "    'ctr': is_lunch_ctr.values()\n",
    "})\n",
    "\n",
    "plt.figure(figsize=(16,8))\n",
    "sns.barplot(data=is_lunch_ctr_df, x='is_lunch_time', y='ctr');"
   ]
  },
  {
   "cell_type": "markdown",
   "id": "88170817-f37a-4382-b0b6-fd60232806ff",
   "metadata": {},
   "source": [
    "- Негативынй Uplift, лучше избегать показа в обеденное время"
   ]
  },
  {
   "cell_type": "markdown",
   "id": "60ace0b7-d2dc-4f0b-bd42-b3125f1793e4",
   "metadata": {},
   "source": [
    "**Время Суток**"
   ]
  },
  {
   "cell_type": "code",
   "execution_count": 73,
   "id": "231ce902-387c-4e14-a2cd-45f910718e29",
   "metadata": {
    "tags": []
   },
   "outputs": [
    {
     "data": {
      "image/png": "[encoded data removed]",
      "text/plain": [
       "<Figure size 1152x576 with 1 Axes>"
      ]
     },
     "metadata": {
      "needs_background": "light"
     },
     "output_type": "display_data"
    }
   ],
   "source": [
    "daytime_ctr = get_ctr(df=time_features_df, column='day_of_time')\n",
    "\n",
    "daytime_ctr_df = pd.DataFrame({\n",
    "    'day_of_time': daytime_ctr.keys(),\n",
    "    'ctr': daytime_ctr.values()\n",
    "})\n",
    "\n",
    "plt.figure(figsize=(16,8))\n",
    "sns.barplot(data=daytime_ctr_df, x='day_of_time', y='ctr');"
   ]
  },
  {
   "cell_type": "markdown",
   "id": "4b116c73-3be5-415b-b1aa-25b225b667a3",
   "metadata": {},
   "source": [
    "- Ночное время выглядит предпочтительнее\n",
    "\n",
    "**СTR по возрасту**"
   ]
  },
  {
   "cell_type": "code",
   "execution_count": 74,
   "id": "1b218f03-0897-4dfc-bfb7-c7bdd38f7672",
   "metadata": {
    "tags": []
   },
   "outputs": [],
   "source": [
    "def assign_age_category(x):\n",
    "    \"\"\"\n",
    "    Простая функция для определения возраста.\n",
    "    \n",
    "    \"\"\"\n",
    "    if x < 20:\n",
    "        return '<20'\n",
    "    elif x >= 20 and x < 30:\n",
    "        return '20-30'\n",
    "    elif x >= 30 and x < 40:\n",
    "        return '30-40'\n",
    "    elif x >= 40 and x < 50:\n",
    "        return '40-50'\n",
    "    else:\n",
    "        return '>50'"
   ]
  },
  {
   "cell_type": "code",
   "execution_count": 75,
   "id": "48388150-b065-4281-b56d-058c517cc6a4",
   "metadata": {
    "tags": []
   },
   "outputs": [
    {
     "name": "stderr",
     "output_type": "stream",
     "text": [
      "c:\\users\\vlad\\appdata\\local\\programs\\python\\python37\\lib\\site-packages\\ipykernel_launcher.py:1: SettingWithCopyWarning: \n",
      "A value is trying to be set on a copy of a slice from a DataFrame.\n",
      "Try using .loc[row_indexer,col_indexer] = value instead\n",
      "\n",
      "See the caveats in the documentation: https://pandas.pydata.org/pandas-docs/stable/user_guide/indexing.html#returning-a-view-versus-a-copy\n",
      "  \"\"\"Entry point for launching an IPython kernel.\n"
     ]
    }
   ],
   "source": [
    "region_1_multi['age_cat'] = region_1_multi['age'].apply(lambda x: assign_age_category(x))"
   ]
  },
  {
   "cell_type": "code",
   "execution_count": 76,
   "id": "c89f123d-74be-4704-a7ee-82855e4b7d20",
   "metadata": {
    "tags": []
   },
   "outputs": [
    {
     "data": {
      "text/html": [
       "<div>\n",
       "<style scoped>\n",
       "    .dataframe tbody tr th:only-of-type {\n",
       "        vertical-align: middle;\n",
       "    }\n",
       "\n",
       "    .dataframe tbody tr th {\n",
       "        vertical-align: top;\n",
       "    }\n",
       "\n",
       "    .dataframe thead th {\n",
       "        text-align: right;\n",
       "    }\n",
       "</style>\n",
       "<table border=\"1\" class=\"dataframe\">\n",
       "  <thead>\n",
       "    <tr style=\"text-align: right;\">\n",
       "      <th></th>\n",
       "      <th>device_id</th>\n",
       "      <th>device_type</th>\n",
       "      <th>datetime</th>\n",
       "      <th>event_type</th>\n",
       "      <th>ad_type</th>\n",
       "      <th>region_id</th>\n",
       "      <th>age</th>\n",
       "      <th>gender</th>\n",
       "      <th>is_returning</th>\n",
       "      <th>age_cat</th>\n",
       "    </tr>\n",
       "  </thead>\n",
       "  <tbody>\n",
       "    <tr>\n",
       "      <th>2</th>\n",
       "      <td>100004</td>\n",
       "      <td>android</td>\n",
       "      <td>2019-03-01 15:31:17</td>\n",
       "      <td>display</td>\n",
       "      <td>multi</td>\n",
       "      <td>1</td>\n",
       "      <td>38</td>\n",
       "      <td>female</td>\n",
       "      <td>0</td>\n",
       "      <td>30-40</td>\n",
       "    </tr>\n",
       "    <tr>\n",
       "      <th>3</th>\n",
       "      <td>100005</td>\n",
       "      <td>android</td>\n",
       "      <td>2019-03-01 15:32:34</td>\n",
       "      <td>display</td>\n",
       "      <td>multi</td>\n",
       "      <td>1</td>\n",
       "      <td>14</td>\n",
       "      <td>male</td>\n",
       "      <td>0</td>\n",
       "      <td>&lt;20</td>\n",
       "    </tr>\n",
       "    <tr>\n",
       "      <th>4</th>\n",
       "      <td>100007</td>\n",
       "      <td>android</td>\n",
       "      <td>2019-03-01 15:33:10</td>\n",
       "      <td>display</td>\n",
       "      <td>multi</td>\n",
       "      <td>1</td>\n",
       "      <td>16</td>\n",
       "      <td>male</td>\n",
       "      <td>1</td>\n",
       "      <td>&lt;20</td>\n",
       "    </tr>\n",
       "    <tr>\n",
       "      <th>5</th>\n",
       "      <td>100007</td>\n",
       "      <td>android</td>\n",
       "      <td>2019-03-01 15:57:29</td>\n",
       "      <td>display</td>\n",
       "      <td>multi</td>\n",
       "      <td>1</td>\n",
       "      <td>16</td>\n",
       "      <td>male</td>\n",
       "      <td>1</td>\n",
       "      <td>&lt;20</td>\n",
       "    </tr>\n",
       "    <tr>\n",
       "      <th>6</th>\n",
       "      <td>100007</td>\n",
       "      <td>android</td>\n",
       "      <td>2019-03-01 22:05:59</td>\n",
       "      <td>display</td>\n",
       "      <td>multi</td>\n",
       "      <td>1</td>\n",
       "      <td>16</td>\n",
       "      <td>male</td>\n",
       "      <td>1</td>\n",
       "      <td>&lt;20</td>\n",
       "    </tr>\n",
       "    <tr>\n",
       "      <th>...</th>\n",
       "      <td>...</td>\n",
       "      <td>...</td>\n",
       "      <td>...</td>\n",
       "      <td>...</td>\n",
       "      <td>...</td>\n",
       "      <td>...</td>\n",
       "      <td>...</td>\n",
       "      <td>...</td>\n",
       "      <td>...</td>\n",
       "      <td>...</td>\n",
       "    </tr>\n",
       "    <tr>\n",
       "      <th>20605</th>\n",
       "      <td>122963</td>\n",
       "      <td>android</td>\n",
       "      <td>2019-03-09 08:22:36</td>\n",
       "      <td>display</td>\n",
       "      <td>multi</td>\n",
       "      <td>1</td>\n",
       "      <td>14</td>\n",
       "      <td>female</td>\n",
       "      <td>0</td>\n",
       "      <td>&lt;20</td>\n",
       "    </tr>\n",
       "    <tr>\n",
       "      <th>20606</th>\n",
       "      <td>122964</td>\n",
       "      <td>android</td>\n",
       "      <td>2019-03-09 04:04:30</td>\n",
       "      <td>display</td>\n",
       "      <td>multi</td>\n",
       "      <td>1</td>\n",
       "      <td>14</td>\n",
       "      <td>male</td>\n",
       "      <td>0</td>\n",
       "      <td>&lt;20</td>\n",
       "    </tr>\n",
       "    <tr>\n",
       "      <th>20607</th>\n",
       "      <td>122965</td>\n",
       "      <td>android</td>\n",
       "      <td>2019-03-09 16:19:29</td>\n",
       "      <td>display</td>\n",
       "      <td>multi</td>\n",
       "      <td>1</td>\n",
       "      <td>43</td>\n",
       "      <td>male</td>\n",
       "      <td>0</td>\n",
       "      <td>40-50</td>\n",
       "    </tr>\n",
       "    <tr>\n",
       "      <th>20608</th>\n",
       "      <td>122966</td>\n",
       "      <td>android</td>\n",
       "      <td>2019-03-09 00:33:42</td>\n",
       "      <td>display</td>\n",
       "      <td>multi</td>\n",
       "      <td>1</td>\n",
       "      <td>32</td>\n",
       "      <td>male</td>\n",
       "      <td>0</td>\n",
       "      <td>30-40</td>\n",
       "    </tr>\n",
       "    <tr>\n",
       "      <th>20609</th>\n",
       "      <td>122967</td>\n",
       "      <td>android</td>\n",
       "      <td>2019-03-09 06:33:23</td>\n",
       "      <td>display</td>\n",
       "      <td>multi</td>\n",
       "      <td>1</td>\n",
       "      <td>10</td>\n",
       "      <td>male</td>\n",
       "      <td>0</td>\n",
       "      <td>&lt;20</td>\n",
       "    </tr>\n",
       "  </tbody>\n",
       "</table>\n",
       "<p>15245 rows × 10 columns</p>\n",
       "</div>"
      ],
      "text/plain": [
       "       device_id device_type            datetime event_type ad_type  \\\n",
       "2         100004     android 2019-03-01 15:31:17    display   multi   \n",
       "3         100005     android 2019-03-01 15:32:34    display   multi   \n",
       "4         100007     android 2019-03-01 15:33:10    display   multi   \n",
       "5         100007     android 2019-03-01 15:57:29    display   multi   \n",
       "6         100007     android 2019-03-01 22:05:59    display   multi   \n",
       "...          ...         ...                 ...        ...     ...   \n",
       "20605     122963     android 2019-03-09 08:22:36    display   multi   \n",
       "20606     122964     android 2019-03-09 04:04:30    display   multi   \n",
       "20607     122965     android 2019-03-09 16:19:29    display   multi   \n",
       "20608     122966     android 2019-03-09 00:33:42    display   multi   \n",
       "20609     122967     android 2019-03-09 06:33:23    display   multi   \n",
       "\n",
       "       region_id  age  gender  is_returning age_cat  \n",
       "2              1   38  female             0   30-40  \n",
       "3              1   14    male             0     <20  \n",
       "4              1   16    male             1     <20  \n",
       "5              1   16    male             1     <20  \n",
       "6              1   16    male             1     <20  \n",
       "...          ...  ...     ...           ...     ...  \n",
       "20605          1   14  female             0     <20  \n",
       "20606          1   14    male             0     <20  \n",
       "20607          1   43    male             0   40-50  \n",
       "20608          1   32    male             0   30-40  \n",
       "20609          1   10    male             0     <20  \n",
       "\n",
       "[15245 rows x 10 columns]"
      ]
     },
     "execution_count": 76,
     "metadata": {},
     "output_type": "execute_result"
    }
   ],
   "source": [
    "region_1_multi"
   ]
  },
  {
   "cell_type": "code",
   "execution_count": 77,
   "id": "a1f1d709-3f1b-4869-b8a4-e311ff5fe041",
   "metadata": {
    "tags": []
   },
   "outputs": [
    {
     "data": {
      "image/png": "[encoded data removed]",
      "text/plain": [
       "<Figure size 1152x576 with 1 Axes>"
      ]
     },
     "metadata": {
      "needs_background": "light"
     },
     "output_type": "display_data"
    }
   ],
   "source": [
    "reg1_multi_age_ctr = get_ctr(df=region_1_multi, column='age_cat')\n",
    "reg1_multi_age_ctr = pd.DataFrame({\n",
    "    'age_cat': reg1_multi_age_ctr.keys(),\n",
    "    'ctr': reg1_multi_age_ctr.values()\n",
    "})\n",
    "\n",
    "plt.figure(figsize=(16,8))\n",
    "sns.barplot(data=reg1_multi_age_ctr, x='age_cat', y='ctr');"
   ]
  },
  {
   "cell_type": "markdown",
   "id": "b3cc30cb-3921-4a9e-ab9c-b6706d39e8f8",
   "metadata": {},
   "source": [
    "- Самый большой отклик из групп старше 50 и и младше 20"
   ]
  },
  {
   "cell_type": "markdown",
   "id": "65e2d112-ef3d-4e55-bc27-9fc4214405be",
   "metadata": {},
   "source": [
    "Можно сформулировать общую рекомендацию для максимального отклика на рекламу для региона 1 и типа multi\n",
    "- Вариант_А: Показ рекламы рано утром (с 5:00) или днем пользователям женского пола в возрасте старше 50 в Среду, Четверг или Воскресенье "
   ]
  },
  {
   "cell_type": "markdown",
   "id": "a3cbb623-65c2-4a97-a27a-e272d7ec4bfb",
   "metadata": {
    "tags": []
   },
   "source": [
    "#### Region 2 (Video)\n",
    "**CTR по полу**"
   ]
  },
  {
   "cell_type": "code",
   "execution_count": 78,
   "id": "a39c980f-e538-463b-8cce-36dca1b3101a",
   "metadata": {
    "tags": []
   },
   "outputs": [
    {
     "data": {
      "image/png": "[encoded data removed]",
      "text/plain": [
       "<Figure size 1152x576 with 1 Axes>"
      ]
     },
     "metadata": {
      "needs_background": "light"
     },
     "output_type": "display_data"
    }
   ],
   "source": [
    "reg2_video_gender_ctr = get_ctr(df=region_2_video, column='gender')\n",
    "reg2_video_gender_ctr = pd.DataFrame({\n",
    "    'gender': reg2_video_gender_ctr.keys(),\n",
    "    'ctr': reg2_video_gender_ctr.values()\n",
    "})\n",
    "\n",
    "plt.figure(figsize=(16,8))\n",
    "sns.barplot(data=reg2_video_gender_ctr, x='gender', y='ctr');"
   ]
  },
  {
   "cell_type": "markdown",
   "id": "d0cb416c-232b-4d34-b861-9d8b9170925c",
   "metadata": {},
   "source": [
    "- Нет сравнения\n",
    "\n",
    "**CTR по девайсу**"
   ]
  },
  {
   "cell_type": "code",
   "execution_count": 79,
   "id": "1d7ec338-50c2-4179-8bb8-0b16d34f6960",
   "metadata": {
    "tags": []
   },
   "outputs": [
    {
     "data": {
      "image/png": "[encoded data removed]",
      "text/plain": [
       "<Figure size 1152x576 with 1 Axes>"
      ]
     },
     "metadata": {
      "needs_background": "light"
     },
     "output_type": "display_data"
    }
   ],
   "source": [
    "reg2_video_device_ctr = get_ctr(df=region_2_video, column='device_type')\n",
    "reg2_video_device_ctr = pd.DataFrame({\n",
    "    'device_type': reg2_video_device_ctr.keys(),\n",
    "    'ctr': reg2_video_device_ctr.values()\n",
    "})\n",
    "\n",
    "plt.figure(figsize=(16,8))\n",
    "sns.barplot(data=reg2_video_device_ctr, x='device_type', y='ctr');"
   ]
  },
  {
   "cell_type": "markdown",
   "id": "416f0b21-7431-420d-a94e-8cec95f364df",
   "metadata": {},
   "source": [
    "- Видим довольно значимый uplift по `device_type`, лучше использовать `android`\n",
    "\n",
    "**CTR по возвращению пользователей**"
   ]
  },
  {
   "cell_type": "code",
   "execution_count": 80,
   "id": "2373c0cd-7088-4d65-b678-947feec9b4b0",
   "metadata": {
    "tags": []
   },
   "outputs": [
    {
     "data": {
      "image/png": "[encoded data removed]",
      "text/plain": [
       "<Figure size 1152x576 with 1 Axes>"
      ]
     },
     "metadata": {
      "needs_background": "light"
     },
     "output_type": "display_data"
    }
   ],
   "source": [
    "reg2_video_return_ctr = get_ctr(df=region_2_video, column='is_returning')\n",
    "reg2_video_return_ctr = pd.DataFrame({\n",
    "    'is_returning': reg2_video_return_ctr.keys(),\n",
    "    'ctr': reg2_video_return_ctr.values()\n",
    "})\n",
    "\n",
    "plt.figure(figsize=(16,8))\n",
    "sns.barplot(data=reg2_video_return_ctr, x='is_returning', y='ctr');"
   ]
  },
  {
   "cell_type": "markdown",
   "id": "10045392-d51e-438a-bf6b-813fdb906ee3",
   "metadata": {},
   "source": [
    "**Час**"
   ]
  },
  {
   "cell_type": "code",
   "execution_count": 81,
   "id": "c091ddda-d35d-41e4-a90b-e24cd1909909",
   "metadata": {
    "tags": []
   },
   "outputs": [
    {
     "data": {
      "image/png": "[encoded data removed]",
      "text/plain": [
       "<Figure size 1152x576 with 1 Axes>"
      ]
     },
     "metadata": {
      "needs_background": "light"
     },
     "output_type": "display_data"
    }
   ],
   "source": [
    "time_features_df = get_time_features(region_2_video['datetime'])\n",
    "\n",
    "# добавим стобец с показами\n",
    "time_features_df['event_type'] = region_2_video['event_type']\n",
    "time_features_df\n",
    "\n",
    "plt.figure(figsize=(16,8))\n",
    "sns.histplot(data=time_features_df, x='hour', hue='event_type', multiple='stack');"
   ]
  },
  {
   "cell_type": "code",
   "execution_count": 82,
   "id": "8913bc8c-74a0-49e3-b18b-0aa323fe5fbc",
   "metadata": {
    "tags": []
   },
   "outputs": [
    {
     "data": {
      "image/png": "[encoded data removed]",
      "text/plain": [
       "<Figure size 1152x576 with 1 Axes>"
      ]
     },
     "metadata": {
      "needs_background": "light"
     },
     "output_type": "display_data"
    }
   ],
   "source": [
    "hour_ctr = get_ctr(df=time_features_df, column='hour')\n",
    "\n",
    "hour_ctr_df = pd.DataFrame({\n",
    "    'hour': hour_ctr.keys(),\n",
    "    'ctr': hour_ctr.values()\n",
    "})\n",
    "\n",
    "plt.figure(figsize=(16,8))\n",
    "sns.barplot(data=hour_ctr_df, x='hour', y='ctr');"
   ]
  },
  {
   "cell_type": "markdown",
   "id": "18a6b61e-db50-4e4d-ab3a-45fa441ef27a",
   "metadata": {},
   "source": [
    "**День Недели**"
   ]
  },
  {
   "cell_type": "code",
   "execution_count": 83,
   "id": "4ba8a99c-02aa-40f0-891a-6eb677edb1ca",
   "metadata": {
    "tags": []
   },
   "outputs": [
    {
     "data": {
      "image/png": "[encoded data removed]",
      "text/plain": [
       "<Figure size 864x432 with 1 Axes>"
      ]
     },
     "metadata": {
      "needs_background": "light"
     },
     "output_type": "display_data"
    }
   ],
   "source": [
    "plt.figure(figsize=(12,6))\n",
    "sns.histplot(data=time_features_df, x='day_name', hue='event_type', multiple='stack');"
   ]
  },
  {
   "cell_type": "code",
   "execution_count": 84,
   "id": "c796485e-daab-48ce-b279-312dc9f00c0a",
   "metadata": {
    "tags": []
   },
   "outputs": [
    {
     "data": {
      "image/png": "[encoded data removed]",
      "text/plain": [
       "<Figure size 1152x576 with 1 Axes>"
      ]
     },
     "metadata": {
      "needs_background": "light"
     },
     "output_type": "display_data"
    }
   ],
   "source": [
    "day_ctr = get_ctr(df=time_features_df, column='day_name')\n",
    "\n",
    "day_ctr_df = pd.DataFrame({\n",
    "    'day_name': day_ctr.keys(),\n",
    "    'ctr': day_ctr.values()\n",
    "})\n",
    "\n",
    "plt.figure(figsize=(16,8))\n",
    "sns.barplot(data=day_ctr_df, x='day_name', y='ctr');"
   ]
  },
  {
   "cell_type": "markdown",
   "id": "14ef06c2-45e6-43dc-b351-f6877bcb4183",
   "metadata": {},
   "source": [
    "**Время Суток**"
   ]
  },
  {
   "cell_type": "code",
   "execution_count": 85,
   "id": "3d08fed0-74ed-4a64-a625-4e3423229e60",
   "metadata": {
    "tags": []
   },
   "outputs": [
    {
     "data": {
      "image/png": "[encoded data removed]",
      "text/plain": [
       "<Figure size 1152x576 with 1 Axes>"
      ]
     },
     "metadata": {
      "needs_background": "light"
     },
     "output_type": "display_data"
    }
   ],
   "source": [
    "daytime_ctr = get_ctr(df=time_features_df, column='day_of_time')\n",
    "\n",
    "daytime_ctr_df = pd.DataFrame({\n",
    "    'day_of_time': daytime_ctr.keys(),\n",
    "    'ctr': daytime_ctr.values()\n",
    "})\n",
    "\n",
    "plt.figure(figsize=(16,8))\n",
    "sns.barplot(data=daytime_ctr_df, x='day_of_time', y='ctr');"
   ]
  },
  {
   "cell_type": "markdown",
   "id": "0cc54d31-0ae3-4fbe-9c42-f6ddf41544fd",
   "metadata": {},
   "source": [
    "**CTR по Возрасту**"
   ]
  },
  {
   "cell_type": "code",
   "execution_count": 86,
   "id": "3897830e-e7d8-4761-b07e-5f6769faf3a4",
   "metadata": {
    "tags": []
   },
   "outputs": [
    {
     "name": "stderr",
     "output_type": "stream",
     "text": [
      "c:\\users\\vlad\\appdata\\local\\programs\\python\\python37\\lib\\site-packages\\ipykernel_launcher.py:1: SettingWithCopyWarning: \n",
      "A value is trying to be set on a copy of a slice from a DataFrame.\n",
      "Try using .loc[row_indexer,col_indexer] = value instead\n",
      "\n",
      "See the caveats in the documentation: https://pandas.pydata.org/pandas-docs/stable/user_guide/indexing.html#returning-a-view-versus-a-copy\n",
      "  \"\"\"Entry point for launching an IPython kernel.\n"
     ]
    }
   ],
   "source": [
    "region_2_video['age_cat'] = region_2_video['age'].apply(lambda x: assign_age_category(x))"
   ]
  },
  {
   "cell_type": "code",
   "execution_count": 87,
   "id": "3d1ddcad-17cb-4f61-a982-1584d06e4891",
   "metadata": {
    "tags": []
   },
   "outputs": [
    {
     "data": {
      "image/png": "[encoded data removed]",
      "text/plain": [
       "<Figure size 1152x576 with 1 Axes>"
      ]
     },
     "metadata": {
      "needs_background": "light"
     },
     "output_type": "display_data"
    }
   ],
   "source": [
    "reg2_video_age_ctr = get_ctr(df=region_2_video, column='age_cat')\n",
    "reg2_video_age_ctr = pd.DataFrame({\n",
    "    'age_cat': reg2_video_age_ctr.keys(),\n",
    "    'ctr': reg2_video_age_ctr.values()\n",
    "})\n",
    "\n",
    "plt.figure(figsize=(16,8))\n",
    "sns.barplot(data=reg2_video_age_ctr, x='age_cat', y='ctr');"
   ]
  },
  {
   "cell_type": "markdown",
   "id": "e3329138-c19f-4094-8502-308b381384ee",
   "metadata": {},
   "source": [
    "Можно сформулировать общую рекомендацию для максимального отклика на рекламу для региона 2 и типа video\n",
    "- Показ рекламы рано утром (в 9:00) или днем пользователям с `android` в Пятницу или Четверг для пользователей старше 50 (или 40-50)"
   ]
  },
  {
   "cell_type": "markdown",
   "id": "8dffde60-799a-4375-b68b-7ca82cb49e73",
   "metadata": {},
   "source": [
    "### Другие Методы \n",
    "- Для привлечения большего числа пользователей на конкретную рекламу можно обучить модель `LookALike` и показывать определенной доле новых пользователей рекламу тем самым увеличив трафик и CTR. Для этого необходимо разметить пользователей на следующие группы:\n",
    "    - Целевые: клик по рекламе\n",
    "    - Остальные: кто посмотрел, но не кликнул"
   ]
  }
 ],
 "metadata": {
  "kernelspec": {
   "display_name": "Python 3",
   "language": "python",
   "name": "python3"
  },
  "language_info": {
   "codemirror_mode": {
    "name": "ipython",
    "version": 3
   },
   "file_extension": ".py",
   "mimetype": "text/x-python",
   "name": "python",
   "nbconvert_exporter": "python",
   "pygments_lexer": "ipython3",
   "version": "3.7.9"
  }
 },
 "nbformat": 4,
 "nbformat_minor": 5
}
