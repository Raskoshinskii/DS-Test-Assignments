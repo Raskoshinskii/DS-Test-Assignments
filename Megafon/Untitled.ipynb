{
 "cells": [
  {
   "cell_type": "code",
   "execution_count": 1,
   "id": "3e890359-c9dc-4964-9340-51a899b6089e",
   "metadata": {},
   "outputs": [
    {
     "data": {
      "text/plain": [
       "[1, 2, 'a', 'b', {}]"
      ]
     },
     "execution_count": 1,
     "metadata": {},
     "output_type": "execute_result"
    }
   ],
   "source": [
    "my_lst = [1, 2, 'a', 'b', {}]\n",
    "my_lst"
   ]
  },
  {
   "cell_type": "code",
   "execution_count": 4,
   "id": "321c1a60-4765-430d-95e1-455d443f753a",
   "metadata": {},
   "outputs": [
    {
     "name": "stdout",
     "output_type": "stream",
     "text": [
      "1\n",
      "2\n",
      "a\n",
      "b\n",
      "{}\n"
     ]
    }
   ],
   "source": [
    "for element in my_lst:\n",
    "    print(element)"
   ]
  },
  {
   "cell_type": "code",
   "execution_count": 23,
   "id": "89306e69-20b7-4dc1-9011-584f9ec23da9",
   "metadata": {},
   "outputs": [
    {
     "name": "stdout",
     "output_type": "stream",
     "text": [
      "Found the first s!!!\n",
      "Found the first s!!!\n",
      "Found the first s!!!\n",
      "Found the first s!!!\n",
      "Finish\n"
     ]
    }
   ],
   "source": [
    "my_str = 'This is test string'\n",
    "\n",
    "for letter in my_str.lower():\n",
    "    if letter == 's':\n",
    "        print('Found the first s!!!')\n",
    "        continue\n",
    "        new_str = letter + '****'\n",
    "        print(new_str)\n",
    "        \n",
    "print('Finish')"
   ]
  },
  {
   "cell_type": "code",
   "execution_count": 29,
   "id": "f9bec621-e379-47dc-9918-8ee317ba2792",
   "metadata": {},
   "outputs": [
    {
     "name": "stdout",
     "output_type": "stream",
     "text": [
      "10\n",
      "9\n",
      "8\n",
      "7\n",
      "6\n",
      "Finish, 5\n"
     ]
    }
   ],
   "source": [
    "i = 10\n",
    "\n",
    "while i != 5:\n",
    "    print(i)\n",
    "    i -= 1\n",
    "    \n",
    "print('Finish, 5')"
   ]
  },
  {
   "cell_type": "markdown",
   "id": "af5029b7-db7c-4eb9-b053-00d26d0a6be3",
   "metadata": {},
   "source": [
    "### List"
   ]
  },
  {
   "cell_type": "code",
   "execution_count": null,
   "id": "434e594d-4855-4016-8d21-92319571f7e5",
   "metadata": {},
   "outputs": [],
   "source": []
  },
  {
   "cell_type": "code",
   "execution_count": 58,
   "id": "7463717e-3db5-47ce-9858-205998d10223",
   "metadata": {},
   "outputs": [],
   "source": [
    "my_list = [1, 2, 3, 'a']"
   ]
  },
  {
   "cell_type": "code",
   "execution_count": 60,
   "id": "72e4f3b3-71f2-4aa9-86e5-ae473f159763",
   "metadata": {},
   "outputs": [],
   "source": [
    "# .append()\n",
    "my_list.append(100)"
   ]
  },
  {
   "cell_type": "code",
   "execution_count": 62,
   "id": "40fdf83a-39e0-4c4a-8aa4-3b6e87c0286f",
   "metadata": {},
   "outputs": [],
   "source": [
    "# .insert()\n",
    "my_list.insert(0, 777)"
   ]
  },
  {
   "cell_type": "code",
   "execution_count": 65,
   "id": "31f24027-99df-43ed-8acc-5e26abf836e8",
   "metadata": {},
   "outputs": [
    {
     "data": {
      "text/plain": [
       "100"
      ]
     },
     "execution_count": 65,
     "metadata": {},
     "output_type": "execute_result"
    }
   ],
   "source": [
    "# .pop()\n",
    "my_list.pop()"
   ]
  },
  {
   "cell_type": "code",
   "execution_count": 103,
   "id": "4045a38b-3d3b-45f0-a4d2-758026cf1d5a",
   "metadata": {},
   "outputs": [],
   "source": [
    "# del \n",
    "del my_list[0]"
   ]
  },
  {
   "cell_type": "code",
   "execution_count": 81,
   "id": "3fcafbb6-a4f2-4cfe-8cfc-486726513c77",
   "metadata": {},
   "outputs": [
    {
     "data": {
      "text/plain": [
       "[2, 3, 'a']"
      ]
     },
     "execution_count": 81,
     "metadata": {},
     "output_type": "execute_result"
    }
   ],
   "source": [
    "# slicing \n",
    "my_list[start_indx : end_indx : step]"
   ]
  },
  {
   "cell_type": "code",
   "execution_count": 111,
   "id": "23ae2e5d-37dd-4960-b9fa-68d9639216ab",
   "metadata": {},
   "outputs": [
    {
     "data": {
      "text/plain": [
       "[100]"
      ]
     },
     "execution_count": 111,
     "metadata": {},
     "output_type": "execute_result"
    }
   ],
   "source": [
    "my_list[0:1]"
   ]
  },
  {
   "cell_type": "code",
   "execution_count": 112,
   "id": "dfde8d15-e177-4d89-8d9e-c1f3fc7add17",
   "metadata": {},
   "outputs": [],
   "source": [
    "# Change list elements \n",
    "my_list[2] = 100"
   ]
  },
  {
   "cell_type": "code",
   "execution_count": 113,
   "id": "907eb784-48c5-4100-8571-8427048f3454",
   "metadata": {},
   "outputs": [
    {
     "data": {
      "text/plain": [
       "[100, 3, 100]"
      ]
     },
     "execution_count": 113,
     "metadata": {},
     "output_type": "execute_result"
    }
   ],
   "source": [
    "my_list"
   ]
  },
  {
   "cell_type": "code",
   "execution_count": null,
   "id": "6c5886e7-107f-4d7c-8de5-c8d5582c4266",
   "metadata": {},
   "outputs": [],
   "source": []
  },
  {
   "cell_type": "code",
   "execution_count": null,
   "id": "f9ba8d75-fdd7-4bb6-bec2-09a157878750",
   "metadata": {},
   "outputs": [],
   "source": []
  }
 ],
 "metadata": {
  "kernelspec": {
   "display_name": "Python 3",
   "language": "python",
   "name": "python3"
  },
  "language_info": {
   "codemirror_mode": {
    "name": "ipython",
    "version": 3
   },
   "file_extension": ".py",
   "mimetype": "text/x-python",
   "name": "python",
   "nbconvert_exporter": "python",
   "pygments_lexer": "ipython3",
   "version": "3.7.9"
  }
 },
 "nbformat": 4,
 "nbformat_minor": 5
}
